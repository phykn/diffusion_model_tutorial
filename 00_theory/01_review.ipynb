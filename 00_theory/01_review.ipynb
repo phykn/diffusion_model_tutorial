{
 "cells": [
  {
   "cell_type": "markdown",
   "metadata": {},
   "source": [
    "## Review: Expectation and Variance"
   ]
  },
  {
   "cell_type": "markdown",
   "metadata": {},
   "source": [
    "\n",
    "### Expectation\n",
    "In probability theory, expectation (also called expected value, mean, average) is a generalization of the weighted average.\n",
    "\n",
    "### Definition\n",
    "The expectation of a random variable $X$ is defined as  \n",
    "$$\n",
    "\\begin{aligned}\n",
    "E[X] &= x_{1}p_{1} + x_{2}p_{2} + ... + x_{n}p_{n} \\\\\n",
    "&= \\sum_{i=1}^{n} x_{i}p_{i}\n",
    "\\end{aligned}\n",
    "$$ \n",
    "where $x_{i}$ and $p_{i}$ are $i$ th a possible outcome and its probability, respectively.\n",
    "\n",
    "### Properties\n",
    "1. $E[aX]=aE[X]$ where $a$ is a constant value.  \n",
    "   $$\n",
    "   \\begin{aligned}\n",
    "   E[aX] &= \\sum_{i=1}^{n} ax_{i}p_{i} \\\\\n",
    "   &= a  \\sum_{i=1}^{n} x_{i}p_{i} \\\\\n",
    "   &= a  E[X]\n",
    "   \\end{aligned}\n",
    "   $$\n",
    "\n",
    "2. $E[X+b]=E[X]+b$ where $b$ is a constant value.  \n",
    "   $$\n",
    "   \\begin{aligned}\n",
    "   E[X+b] &= \\sum_{i=1}^{n} (x_{i}+b)p_{i} \\\\\n",
    "   &= \\sum_{i=1}^{n} (x_{i}p_{i}+bp_{i}) \\\\\n",
    "   &= \\sum_{i=1}^{n} x_{i}p_{i} + \\sum_{i=1}^{n} bp_{i} \\\\\n",
    "   &= E[X] + b \\sum_{i=1}^{n} p_{i} \\\\\n",
    "   &= E[X] + b\n",
    "   \\end{aligned}\n",
    "   $$   \n",
    "   We used the property that sum of all probability is equal to 1 $(\\sum_{i=1}^{n} p_{i}=1)$.\n",
    "\n",
    "3. $E[X+Y]=E[X]+E[Y]$    \n",
    "   $$\n",
    "   \\begin{aligned}\n",
    "   E[X+Y] &= \\sum_{i=1}^{n} (x_{i} + y_{i})p_{i} \\\\\n",
    "   &= \\sum_{i=1}^{n} (x_{i}p_{i} + y_{i}p_{i}) \\\\\n",
    "   &= \\sum_{i=1}^{n} x_{i}p_{i} + \\sum_{i=1}^{n}y_{i}p_{i} \\\\\n",
    "   &= E[X] + E[Y]\n",
    "   \\end{aligned}\n",
    "   $$"
   ]
  },
  {
   "cell_type": "markdown",
   "metadata": {},
   "source": []
  }
 ],
 "metadata": {
  "kernelspec": {
   "display_name": "Python 3.8.10 ('pytorch')",
   "language": "python",
   "name": "python3"
  },
  "language_info": {
   "name": "python",
   "version": "3.8.10"
  },
  "orig_nbformat": 4,
  "vscode": {
   "interpreter": {
    "hash": "65b5f243489bd9358788296533fc03025fea49f65e08ef6aa7a40b96c7113e3c"
   }
  }
 },
 "nbformat": 4,
 "nbformat_minor": 2
}
