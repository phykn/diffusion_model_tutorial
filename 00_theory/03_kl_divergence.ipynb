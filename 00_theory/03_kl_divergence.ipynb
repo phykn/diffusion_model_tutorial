{
 "cells": [
  {
   "cell_type": "markdown",
   "metadata": {},
   "source": [
    "## KL Divergence\n",
    "In mathematical statistics, the Kullback–Leibler divergence (relative entropy), is a type of statistical distance."
   ]
  },
  {
   "cell_type": "markdown",
   "metadata": {},
   "source": [
    "### Definition\n",
    "1. Discrete probability distribution\n",
    "   $$\n",
    "   \\begin{aligned}\n",
    "   D_{\\text{KL}}(P||Q) = \\sum_{x \\in \\chi} P(x) \\text{log} \\frac{P(x)}{Q(x)}\n",
    "   \\end{aligned}\n",
    "   $$\n",
    "   where $P$ and $Q$ are discrete probability distributions.\n",
    "\n",
    "2. Continuous probability distribution\n",
    "   $$\n",
    "   \\begin{aligned}\n",
    "   D_{\\text{KL}}(P||Q) = \\int_{-\\infty}^{\\infty} p(x) \\text{log} \\frac{p(x)}{q(x)} dx\n",
    "   \\end{aligned}\n",
    "   $$\n",
    "   where $p$ and $q$ denote the probability densities of $P$ and $Q$."
   ]
  },
  {
   "cell_type": "markdown",
   "metadata": {},
   "source": [
    "### Jensen's inequality\n",
    "In mathematics, Jensen's inequality relates the value of a convex (or concave) function of an integral to the integral of the function.\n",
    "\n",
    "1. Convex function\n",
    "   $$\n",
    "   \\begin{aligned}\n",
    "   f(E[X]) \\leq E[f(X)]\n",
    "   \\end{aligned}\n",
    "   $$\n",
    "\n",
    "2. Concave function\n",
    "   $$\n",
    "   \\begin{aligned}\n",
    "   f(E[X]) \\geq E[f(X)]\n",
    "   \\end{aligned}\n",
    "   $$"
   ]
  },
  {
   "cell_type": "markdown",
   "metadata": {},
   "source": [
    "### Properties of KL Divergence\n",
    "1. KL Divergence is always non-negative.     \n",
    "   $$\n",
    "   \\begin{aligned}\n",
    "   D_{\\text{KL}}(P||Q) &= -\\int p(x) \\text{log} \\frac{q(x)}{p(x)} dx \\\\\n",
    "   &= E \\left [ -\\text{log} \\frac{q(x)}{p(x)} \\right ] \\\\\n",
    "   &\\geq -\\text{log} E \\left [ \\frac{q(x)}{p(x)} \\right ] \\quad \\because -\\text{log}(x) \\text{ is convex function.}\\\\\n",
    "   &= -\\text{log} \\int p(x) \\frac{q(x)}{p(x)} dx \\\\\n",
    "   &= -\\text{log} \\int q(x) dx \\\\\n",
    "   &= -\\text{log}(1) \\\\\n",
    "   &= 0 \\\\  \n",
    "   \\\\\n",
    "   \\therefore D_{\\text{KL}}(P||Q) & \\geq 0\n",
    "   \\end{aligned}\n",
    "   $$\n",
    "\n",
    "2. The cross-entropy is always larger than the entropy.\n",
    "   $$\n",
    "   \\begin{aligned} \n",
    "   D_{\\text{KL}}(P||Q) &= \\int p(x) \\text{log} \\frac{p(x)}{q(x)} dx \\\\\n",
    "   &= \\int p(x) \\text{log } p(x) dx - \\int p(x) \\text{log } q(x) dx \\\\\n",
    "   &\\geq 0 \\\\\n",
    "   \\\\\n",
    "   \\therefore -\\int p(x) \\text{log } q(x) dx &\\geq -\\int p(x) \\text{log } p(x) dx\n",
    "   \\end{aligned}\n",
    "   $$\n",
    "   where $-\\int p(x) \\text{log } q(x) dx$ and $-\\int p(x) \\text{log } p(x) dx$ are the cross-entropy and the entropy, respectively.\n",
    "\n",
    "3. Two univariate normal distributions $P$ and $Q$ are simplified to\n",
    "\n",
    "   $$\n",
    "   \\begin{aligned}\n",
    "   D_{\\text{KL}}(P||Q) = \\text{log }\\frac{\\sigma_{q}}{\\sigma_{p}} + \\frac{\\sigma_{p}^{2} + (\\mu_{p}-\\mu_{q})^{2}}{2 \\sigma_{q}^{2}} - \\frac{1}{2}\n",
    "   \\end{aligned}\n",
    "   $$\n",
    "\n",
    "   $\\bf{proof}$\n",
    "   \n",
    "   $$\n",
    "   \\begin{aligned}\n",
    "   D_{\\text{KL}}(P||Q) &= \\int p(x) \\text{log} \\frac{p(x)}{q(x)} dx \\\\\n",
    "   \\end{aligned}\n",
    "   $$"
   ]
  }
 ],
 "metadata": {
  "kernelspec": {
   "display_name": "Python 3.8.10 ('pytorch')",
   "language": "python",
   "name": "python3"
  },
  "language_info": {
   "codemirror_mode": {
    "name": "ipython",
    "version": 3
   },
   "file_extension": ".py",
   "mimetype": "text/x-python",
   "name": "python",
   "nbconvert_exporter": "python",
   "pygments_lexer": "ipython3",
   "version": "3.8.10"
  },
  "orig_nbformat": 4,
  "vscode": {
   "interpreter": {
    "hash": "65b5f243489bd9358788296533fc03025fea49f65e08ef6aa7a40b96c7113e3c"
   }
  }
 },
 "nbformat": 4,
 "nbformat_minor": 2
}
