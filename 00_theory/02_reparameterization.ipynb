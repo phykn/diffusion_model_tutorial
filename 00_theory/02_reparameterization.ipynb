{
 "cells": [
  {
   "cell_type": "markdown",
   "metadata": {},
   "source": [
    "## Reparameterization\n",
    "When we sample from a probability distribution, backpropagation the gradient is not possible because it is a stochastic process. To make it trainable, the reparameterization is useful.\n",
    "\n",
    "Let us assume that $\\mathbf{z}$ is sampled from a gaussian distribution which the mean is $\\mathbf{\\mu}$ and the variance is $\\mathbf{\\sigma^{2}}$. Then, the mean and variance of $\\mathbf{z}$ would be $\\mathbf{\\mu}$ and $\\mathbf{\\sigma^{2}}$. Therefore, $\\mathbf{z}$ can be written as follows.\n",
    "\n",
    "$$\n",
    "\\mathbf{z} = \\mathbf{\\mu} + \\mathbf{\\sigma} \\odot \\mathbf{\\epsilon}, \\text{where } \\mathbf{\\epsilon} \\sim N(0, \\mathbf{I})\n",
    "$$  \n",
    "where $\\odot$ refers to element-wise product.\n",
    "\n",
    "The mean and variance of $\\mathbf{z}$ correspond to $\\mathbf{\\mu}$ and $\\mathbf{\\sigma^{2}}$, respectively.\n",
    "\n",
    "### Mean (Expectation)\n",
    "$$\n",
    "\\begin{aligned}\n",
    "E[\\mathbf{z}] &= E[\\mathbf{\\mu} + \\mathbf{\\sigma} \\odot \\mathbf{\\epsilon}] \\\\\n",
    "&= E[\\mathbf{\\mu}] + \\sigma E[\\mathbf{\\epsilon}] \\\\\n",
    "&= \\mathbf{\\mu}\n",
    "\\end{aligned}\n",
    "$$\n",
    "The expectation of $\\mathbf{\\epsilon}$ is 0 by definition.\n",
    "\n",
    "### Variance\n",
    "$$\n",
    "\\begin{aligned}\n",
    "Var[\\mathbf{z}] &= Var[\\mathbf{\\mu} + \\mathbf{\\sigma} \\odot \\mathbf{\\epsilon}] \\\\\n",
    "&= Var[\\mathbf{\\sigma} \\odot \\mathbf{\\epsilon}] \\\\\n",
    "&= \\mathbf{\\sigma}^{2} Var[\\mathbf{\\epsilon}] \\\\\n",
    "&= \\mathbf{\\sigma}^{2}\n",
    "\\end{aligned}\n",
    "$$\n",
    "The variance of $\\mathbf{\\epsilon}$ is 1 by definition."
   ]
  }
 ],
 "metadata": {
  "kernelspec": {
   "display_name": "Python 3.8.10 ('pytorch')",
   "language": "python",
   "name": "python3"
  },
  "language_info": {
   "name": "python",
   "version": "3.8.10"
  },
  "orig_nbformat": 4,
  "vscode": {
   "interpreter": {
    "hash": "65b5f243489bd9358788296533fc03025fea49f65e08ef6aa7a40b96c7113e3c"
   }
  }
 },
 "nbformat": 4,
 "nbformat_minor": 2
}
