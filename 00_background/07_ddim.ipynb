{
 "cells": [
  {
   "attachments": {},
   "cell_type": "markdown",
   "metadata": {},
   "source": [
    "### DDIM (Denoising Diffusion Implicit Models)\n",
    "[Jiaming Song et al.](https://arxiv.org/abs/2010.02502)\n",
    "\n",
    "\n",
    "Forward Process\n",
    "\n",
    "$$\n",
    "x_{t} = \\sqrt{\\bar{\\alpha}_{t}} x_{0} + \\sqrt{1 - \\bar{\\alpha}_{t}} \\epsilon\n",
    "$$\n",
    "\n",
    "Backward Process\n",
    "\n",
    "$$\n",
    "\\begin{aligned}\n",
    "x_{t-1} &= \\sqrt{\\bar{\\alpha}_{t-1}} \\left( \\frac{x_{t} - \\sqrt{1 - \\bar{\\alpha}_{t}} \\epsilon_{\\theta}(x_{t})}{\\sqrt{\\bar{\\alpha}_t}} \\right) + \\sqrt{1 - \\bar{\\alpha}_{t-1} - \\sigma_{t}^{2}} \\epsilon_{\\theta}(x_{t}) + \\sigma_{t} \\epsilon_{t} \\\\\n",
    "&= \\sqrt{\\bar{\\alpha}_{t-1}} f_{\\theta}(x_{t}) + \\sqrt{1 - \\bar{\\alpha}_{t-1} - \\sigma_{t}^{2}} \\epsilon_{\\theta}(x_{t}) + \\sigma_{t} \\epsilon_{t}\n",
    "\\end{aligned}\n",
    "$$\n",
    "\n",
    "If\n",
    "\n",
    "$$\n",
    "\\sigma_{t}^{2} = \\frac{1 - \\bar{\\alpha}_{t-1}}{1 - \\bar{\\alpha}_{t}} \\beta_{t} = \\tilde{\\beta}_{t}\n",
    "$$\n",
    "\n",
    "the process becomes a DDPM.\n",
    "\n",
    "Proof\n"
   ]
  }
 ],
 "metadata": {
  "kernelspec": {
   "display_name": "pytorch",
   "language": "python",
   "name": "python3"
  },
  "language_info": {
   "name": "python",
   "version": "3.8.10 (tags/v3.8.10:3d8993a, May  3 2021, 11:48:03) [MSC v.1928 64 bit (AMD64)]"
  },
  "orig_nbformat": 4,
  "vscode": {
   "interpreter": {
    "hash": "65b5f243489bd9358788296533fc03025fea49f65e08ef6aa7a40b96c7113e3c"
   }
  }
 },
 "nbformat": 4,
 "nbformat_minor": 2
}
