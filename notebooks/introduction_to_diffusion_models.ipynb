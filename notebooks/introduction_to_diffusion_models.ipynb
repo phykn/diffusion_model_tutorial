{
 "cells": [
  {
   "attachments": {},
   "cell_type": "markdown",
   "metadata": {},
   "source": [
    "### Diffusion Models\n",
    "\n",
    "#### Forward and Reverse process\n",
    "Diffusion models are typically divided into two main processes.\n",
    "\n",
    "1. **Forward Process**: The forward process involves adding small amounts of noise (usually gaussian noise) to the image over thousands of steps. The term \"diffusion\" is used because noise is introduced gradually, causing the image to progressively lose clarity and become increasingly indistinct. The model is trained to predict total amount of noise at any given time step $t$.\n",
    "2. **Reverse Process**: Reverse process refers to the procedure of eliminating noise from a latent (or gaussian noise). \n",
    "\n",
    "The paper by [Jonathan Ho et. al. 2020](https://arxiv.org/abs/2006.11239) provides a clear distinction between the two processes involved in the model. $q(x_{t}|x_{t-1})$ is the forward process, $p_{\\theta}(x_{t-1}|x_{t})$ is the reverse process, and the $t$ is time step, respectively.\n",
    "\n",
    "![img](./images/diffusion_process.png)"
   ]
  },
  {
   "attachments": {},
   "cell_type": "markdown",
   "metadata": {},
   "source": [
    "#### Noise schedule\n",
    "Noise schedule refers to the strategy used to control the amount of noise that is added to the image during the diffusion process. The noise schedule determines how the variance of the gaussian noise added to the image changes over time during the diffusion process.\n",
    "\n",
    "The choice of noise schedule can have a significant impact on the performance of the diffusion model. Hence, this tutorial will concentrate on the topic of noise schedule later."
   ]
  }
 ],
 "metadata": {
  "language_info": {
   "name": "python"
  },
  "orig_nbformat": 4
 },
 "nbformat": 4,
 "nbformat_minor": 2
}
