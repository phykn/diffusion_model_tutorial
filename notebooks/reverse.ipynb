{
 "cells": [
  {
   "cell_type": "markdown",
   "metadata": {},
   "source": [
    "### Reverse process\n",
    "In the reverse process, we restore image from a gaussian noise (a latent vector). If $\\beta_{t}$ is small enough, the reverse $q(x_{t-1}|x_{t})$ will also be gaussian. It is noteworthy that the reverse process is tractable when conditioned on $x_{0}$.\n",
    "\n",
    "$$\n",
    "\\begin{aligned}\n",
    "q(x_{t-1}|x_{t}, x_{0}) \n",
    "&= q(x_{t}|x_{t-1}, x_{0}) \\frac{q(x_{t-1}|x_{0})}{q(x_{t}|x_{0})} \\\\\n",
    "&= N(x_{t}; \\sqrt{1-\\beta_{t}} x_{t-1}, \\beta_{t}\\mathbf{I}) \\frac{N(x_{t-1}; \\sqrt{\\bar{\\alpha}_{t-1}} x_{0}, (1-\\bar{\\alpha}_{t-1})\\mathbf{I})}{N(x_{t}; \\sqrt{\\bar{\\alpha}_{t}} x_{0}, (1-\\bar{\\alpha}_{t})\\mathbf{I})} \\\\\n",
    "&\\propto \\mathrm{exp} \\left \\{ \\frac{1}{2} \\left [ \\frac{(x_{t}-\\sqrt{\\alpha_{t}}x_{t-1})^{2}}{\\beta_{t}} + \\frac{(x_{t-1}-\\sqrt{\\bar{\\alpha}_{t-1}}x_{0})^{2}}{1-\\bar{\\alpha}_{t-1}} - \\frac{(x_{t}-\\sqrt{\\bar{\\alpha}_{t}}x_{0})^{2}}{1-\\bar{\\alpha}_{t}} \\right ] \\right \\} \\\\\n",
    "&= \\mathrm{exp} \\left \\{ \\frac{1}{2} \\left [ \\frac{x_{t}^{2}-2\\sqrt{\\alpha_{t}}x_{t}x_{t-1}+\\alpha_{t} x_{t-1}^{2}}{\\beta_{t}} + \\frac{x_{t-1}^{2}-2\\sqrt{\\bar{\\alpha}_{t-1}}x_{t-1}x_{0})^{2} + \\bar{\\alpha}_{t-1}x_{0}^{2}}{1-\\bar{\\alpha}_{t-1}} - \\frac{(x_{t}-\\sqrt{\\bar{\\alpha}_{t}}x_{0})^{2}}{1-\\bar{\\alpha}_{t}} \\right ] \\right \\} \\\\\n",
    "&= \\mathrm{exp} \\left \\{ \\frac{1}{2} \\left [ \\left ( \\frac{\\alpha_{t}}{\\beta_{t}} + \\frac{1}{1-\\bar{\\alpha}_{t-1}} \\right ) x_{t-1}^{2} - \\left ( \\frac{2\\sqrt{\\alpha_{t}}}{\\beta_{t}}x_{t} + \\frac{2\\sqrt{\\bar{\\alpha}_{t-1}}}{1-\\bar{\\alpha}_{t-1}} x_{0} \\right ) x_{t-1} + C(x_{t}, x_{0}) \\right ] \\right \\} \\\\\n",
    "&= N(x_{t-1}; \\tilde{\\mu}(x_{t}, x_{0}), \\tilde{\\beta}_{t} \\mathrm{I})\n",
    "\\end{aligned}\n",
    "$$\n",
    "where $C(x_{t}, x_{0})$ has nothing to do with $x_{t-1}$ so the details are omitted.  \n",
    "\n",
    "The mean $\\tilde{\\mu}(x_{t}, x_{0})$ and the variance $\\tilde{\\beta}_{t}$ can be parameterized as follows.\n",
    "\n",
    "1. $\\bf{mean}$, $\\tilde{\\mu}(x_{t}, x_{0})$\n",
    "   $$\n",
    "   \\begin{aligned}\n",
    "   \\tilde{\\mu}(x_{t}, x_{0}) &= \\left ( \\frac{\\sqrt{\\alpha_{t}}}{\\beta_{t}}x_{t} + \\frac{\\sqrt{\\bar{\\alpha}_{t-1}}}{1-\\bar{\\alpha}_{t-1}} x_{0} \\right ) / \\left ( \\frac{\\alpha_{t}}{\\beta_{t}} + \\frac{1}{1-\\bar{\\alpha}_{t-1}} \\right ) \\\\\n",
    "   \\frac{\\alpha_{t}}{\\beta_{t}} + \\frac{1}{1-\\bar{\\alpha}_{t-1}} &= \\frac{\\alpha_{t}(1-\\bar{\\alpha}_{t-1})+\\beta_{t}}{\\beta_{t}(1-\\bar{\\alpha}_{t-1})} \\\\\n",
    "   &= \\frac{\\alpha_{t}-\\alpha_{t}\\bar{\\alpha}_{t-1}+1-\\alpha_{t}}{(1-\\bar{\\alpha}_{t-1})\\beta_{t}} \\\\\n",
    "   &= \\frac{1-\\bar{\\alpha}_{t}}{(1-\\bar{\\alpha}_{t-1})\\beta_{t}} \\\\\n",
    "   \\tilde{\\mu}(x_{t}, x_{0}) &= \\left ( \\frac{\\sqrt{\\alpha_{t}}}{\\beta_{t}}x_{t} + \\frac{\\sqrt{\\bar{\\alpha}_{t-1}}}{1-\\bar{\\alpha}_{t-1}} x_{0} \\right )\\frac{1-\\bar{\\alpha}_{t-1}}{1-\\bar{\\alpha}_{t}}\\beta_{t} \\\\\n",
    "   &= \\frac{\\sqrt{\\alpha_{t}}}{\\beta_{t}} \\frac{1-\\bar{\\alpha}_{t-1}}{1-\\bar{\\alpha}_{t}}\\beta_{t} x_{t} + \\frac{\\sqrt{\\bar{\\alpha}_{t-1}}}{1-\\bar{\\alpha}_{t-1}} \\frac{1-\\bar{\\alpha}_{t-1}}{1-\\bar{\\alpha}_{t}}\\beta_{t} x_{0} \\\\\n",
    "   &= \\frac{\\sqrt{\\alpha_{t}}(1-\\bar{\\alpha}_{t-1})}{1-\\bar{\\alpha}_{t}} x_{t} + \\frac{\\sqrt{\\bar{\\alpha}_{t-1}}\\beta_{t}}{1-\\bar{\\alpha}_{t}} x_{0} \\\\\n",
    "   \\tilde{\\mu}(x_{t}, t) &= \\frac{\\sqrt{\\alpha_{t}}(1-\\bar{\\alpha}_{t-1})}{1-\\bar{\\alpha}_{t}} x_{t} + \\frac{\\sqrt{\\bar{\\alpha}_{t-1}}\\beta_{t}}{1-\\bar{\\alpha}_{t}} \\frac{1}{\\sqrt{\\bar{\\alpha}_{t}}} (x_{t}-\\sqrt{1-\\bar{\\alpha}_{t}}\\epsilon_{t}) \\quad \\because x_{t}=\\sqrt{\\bar{\\alpha}_{t}}x_{0} + \\sqrt{1-\\bar{\\alpha}_{t}}\\epsilon_{t} \\\\\n",
    "   &= \\frac{\\sqrt{\\bar{\\alpha}_{t}}\\sqrt{\\alpha_{t}}(1-\\bar{\\alpha}_{t-1}) + \\sqrt{\\bar{\\alpha}_{t-1}}\\beta_{t}}{\\sqrt{\\bar{\\alpha}_{t}}(1-\\bar{\\alpha}_{t})} x_{t} - \\frac{\\sqrt{\\bar{\\alpha}_{t-1}}\\beta_{t} \\sqrt{1-\\bar{\\alpha}_{t}}}{\\sqrt{\\bar{\\alpha}_{t}} (1-\\bar{\\alpha}_{t})} \\epsilon_{t} \\\\\n",
    "   &= \\frac{\\sqrt{\\bar{\\alpha}_{t-1}}(\\alpha_{t}-\\bar{\\alpha}_{t}+1-\\alpha_{t})}{\\sqrt{\\bar{\\alpha}_{t}}(1-\\bar{\\alpha}_{t})} x_{t} - \\frac{1-\\alpha_{t}}{\\sqrt{\\alpha_{t}}\\sqrt{1-\\bar{\\alpha}_{t}}} \\epsilon_{t} \\\\\n",
    "   &= \\frac{\\sqrt{\\bar{\\alpha}_{t-1}}(1-\\bar{\\alpha}_{t})}{\\sqrt{\\bar{\\alpha}_{t}}(1-\\bar{\\alpha}_{t})} x_{t} - \\frac{1-\\alpha_{t}}{\\sqrt{\\alpha_{t}}\\sqrt{1-\\bar{\\alpha}_{t}}} \\epsilon_{t} \\\\\n",
    "   &= \\frac{1}{\\sqrt{\\alpha}_{t}} x_{t} - \\frac{1-\\alpha_{t}}{\\sqrt{\\alpha_{t}}\\sqrt{1-\\bar{\\alpha}_{t}}} \\epsilon_{t} \\\\\n",
    "   &= \\frac{1}{\\sqrt{\\alpha}_{t}} \\left ( x_{t} - \\frac{1-\\alpha_{t}}{\\sqrt{1-\\bar{\\alpha}_{t}}} \\epsilon_{t} \\right ) \\\\\n",
    "   \\therefore \\tilde{\\mu}(x_{t}, t) &= \\frac{1}{\\sqrt{\\alpha}_{t}} \\left ( x_{t} - \\frac{1-\\alpha_{t}}{\\sqrt{1-\\bar{\\alpha}_{t}}} \\epsilon_{t} \\right )\n",
    "   \\end{aligned}\n",
    "   $$\n",
    "\n",
    "2. $\\bf{variance}$, $\\tilde{\\beta_{t}}$\n",
    "   $$\n",
    "   \\begin{aligned}\n",
    "   \\tilde{\\beta}_{t} &= 1/ \\left ( \\frac{\\alpha_{t}}{\\beta_{t}} + \\frac{1}{1-\\bar{\\alpha}_{t-1}} \\right ) \\\\\n",
    "   &= 1/ \\left ( \\frac{\\alpha_{t} - \\alpha_{t}\\bar{\\alpha}_{t-1} + \\beta_{t}}{\\beta_{t}(1-\\bar{\\alpha}_{t-1})} \\right ) \\\\\n",
    "   &= 1/ \\left ( \\frac{1-\\beta_{t} - \\bar{\\alpha}_{t} + \\beta_{t}}{\\beta_{t}(1-\\bar{\\alpha}_{t-1})} \\right ) \\quad (\\alpha_{t}=1-\\beta_{t}, \\alpha_{t}\\bar{\\alpha}_{t-1}=\\bar{\\alpha}_{t}) \\\\\n",
    "   &= \\frac{1 - \\bar{\\alpha}_{t-1}}{1-\\bar{\\alpha}_{t}} \\beta_{t} \\\\\n",
    "   \\therefore \\tilde{\\beta}_{t} &= \\frac{1 - \\bar{\\alpha}_{t-1}}{1-\\bar{\\alpha}_{t}} \\beta_{t}\n",
    "   \\end{aligned}\n",
    "   $$"
   ]
  }
 ],
 "metadata": {
  "kernelspec": {
   "display_name": "Python 3.8.10 ('pytorch')",
   "language": "python",
   "name": "python3"
  },
  "language_info": {
   "name": "python",
   "version": "3.8.10 (tags/v3.8.10:3d8993a, May  3 2021, 11:48:03) [MSC v.1928 64 bit (AMD64)]"
  },
  "orig_nbformat": 4,
  "vscode": {
   "interpreter": {
    "hash": "65b5f243489bd9358788296533fc03025fea49f65e08ef6aa7a40b96c7113e3c"
   }
  }
 },
 "nbformat": 4,
 "nbformat_minor": 2
}
