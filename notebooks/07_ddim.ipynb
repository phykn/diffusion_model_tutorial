{
 "cells": [
  {
   "attachments": {},
   "cell_type": "markdown",
   "metadata": {},
   "source": [
    "## DDIM (Denoising Diffusion Implicit Models)\n",
    "[Denoising Diffusion Implicit Models (DDIMs)](https://arxiv.org/abs/2010.02502) by Jiaming Song, Chenlin Meng and Stefano Ermon are a efficient class of iterative implicit probabilistic models to accelerate sampling. DDIMs have non-Markovian diffusion processes that lead to the same training objective with DDPMs, but whose reverse process can be much faster to sample from. DDIMs can produce high quality samples 10× to 50× faster in terms of wall-clock time compared to DDPMs.\n",
    "\n",
    "### Forward Process\n",
    "Same as DDPMs.\n",
    "\n",
    "$$\n",
    "x_{t} = \\sqrt{\\bar{\\alpha}_{t}} x_{0} + \\sqrt{1 - \\bar{\\alpha}_{t}} \\epsilon\n",
    "$$\n",
    "\n",
    "### Backward Process\n",
    "In DDIMs, we estimate $x_{0}$ using $\\epsilon_{\\theta}(x_{t})$. \n",
    "\n",
    "$$\n",
    "\\begin{aligned}\n",
    "x_{t-1} &= \\sqrt{\\bar{\\alpha}_{t-1}} x_{0} + \\sqrt{1 - \\bar{\\alpha}_{t-1} - \\sigma_{t}^{2}} \\epsilon_{\\theta}(x_{t}) + \\sigma_{t} \\epsilon_{t} \\\\\n",
    "&= \\sqrt{\\bar{\\alpha}_{t-1}} f_{\\theta}(x_{t}) + \\sqrt{1 - \\bar{\\alpha}_{t-1} - \\sigma_{t}^{2}} \\epsilon_{\\theta}(x_{t}) + \\sigma_{t} \\epsilon_{t}\n",
    "\\end{aligned}\n",
    "$$\n",
    "\n",
    "where\n",
    "\n",
    "$$\n",
    "\\begin{aligned}\n",
    "f_{\\theta}(x_{t}) = \\frac{x_{t} - \\sqrt{1 - \\bar{\\alpha}_{t}} \\epsilon_{\\theta}(x_{t})}{\\sqrt{\\bar{\\alpha}_t}}\n",
    "\\end{aligned}\n",
    "$$\n",
    "\n",
    "When\n",
    "\n",
    "$$\n",
    "\\sigma_{t}^{2} = \\frac{1 - \\bar{\\alpha}_{t-1}}{1 - \\bar{\\alpha}_{t}} \\beta_{t} = \\tilde{\\beta}_{t}\n",
    "$$\n",
    "\n",
    "the forward process becomes Markovian and the backward process becomes a DDPM for all t."
   ]
  }
 ],
 "metadata": {
  "kernelspec": {
   "display_name": "pytorch",
   "language": "python",
   "name": "python3"
  },
  "language_info": {
   "name": "python",
   "version": "3.8.10 (tags/v3.8.10:3d8993a, May  3 2021, 11:48:03) [MSC v.1928 64 bit (AMD64)]"
  },
  "orig_nbformat": 4,
  "vscode": {
   "interpreter": {
    "hash": "65b5f243489bd9358788296533fc03025fea49f65e08ef6aa7a40b96c7113e3c"
   }
  }
 },
 "nbformat": 4,
 "nbformat_minor": 2
}
