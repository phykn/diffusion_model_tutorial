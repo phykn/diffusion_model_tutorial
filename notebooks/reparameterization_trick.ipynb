{
 "cells": [
  {
   "attachments": {},
   "cell_type": "markdown",
   "metadata": {},
   "source": [
    "### Reparameterization trick\n",
    "Since sampling data from a probability distribution is a stochastic process, backpropagating gradients is not possible. To make it trainable, the reparameterization trick is commonly used.\n",
    "\n",
    "Let us assume that $\\mathbf{z}$ is sampled data from a Gaussian distribution with mean $\\mathbf{\\mu}$ and variance $\\mathbf{\\sigma^{2}}$, $\\mathcal{N}(\\mathbf{\\mu}, \\mathbf{\\sigma}^{2} \\mathbf{I})$. Then, the distribution of $\\mathbf{z}$ can be expressed as follows:\n",
    "\n",
    "$$\n",
    "\\mathbf{z} = \\mathbf{\\mu} + \\mathbf{\\sigma} \\odot \\boldsymbol{\\epsilon}\n",
    "$$\n",
    "\n",
    "where $\\boldsymbol{\\epsilon}$ is another random variable sampled from a standard Gaussian distribution, $\\mathcal{N}(0,\\mathbf{I})$, and $\\odot$ denotes element-wise multiplication. By this reparameterization, we can now backpropagate gradients through $\\mathbf{z}$ since it is now a deterministic function of $\\mathbf{\\mu}$, $\\mathbf{\\sigma}$, and $\\boldsymbol{\\epsilon}$.\n",
    "\n",
    "The mean and variance of $\\mathbf{z}$ are equal to $\\mathbf{\\mu}$ and $\\mathbf{\\sigma^{2}}$, respectively.\n",
    "\n",
    "#### Expectation\n",
    "$$\n",
    "\\begin{aligned}\n",
    "E[\\mathbf{z}] &= E[\\mathbf{\\mu} + \\mathbf{\\sigma} \\odot \\mathbf{\\epsilon}] \\\\\n",
    "&= E[\\mathbf{\\mu}] + \\sigma E[\\mathbf{\\epsilon}] \\\\\n",
    "&= \\mathbf{\\mu}\n",
    "\\end{aligned}\n",
    "$$\n",
    "The expectation of $\\mathbf{\\epsilon}$ is 0 by definition, since it is a standard normal distribution with a mean of 0.\n",
    "\n",
    "#### Variance\n",
    "$$\n",
    "\\begin{aligned}\n",
    "Var[\\mathbf{z}] &= Var[\\mathbf{\\mu} + \\mathbf{\\sigma} \\odot \\mathbf{\\epsilon}] \\\\\n",
    "&= Var[\\mathbf{\\sigma} \\odot \\mathbf{\\epsilon}] \\\\\n",
    "&= \\mathbf{\\sigma}^{2} Var[\\mathbf{\\epsilon}] \\\\\n",
    "&= \\mathbf{\\sigma}^{2}\n",
    "\\end{aligned}\n",
    "$$\n",
    "By definition, the variance of $\\mathbf{\\epsilon}$ is equal to 1."
   ]
  }
 ],
 "metadata": {
  "kernelspec": {
   "display_name": "Python 3.8.10 ('pytorch')",
   "language": "python",
   "name": "python3"
  },
  "language_info": {
   "name": "python",
   "version": "3.8.10 (tags/v3.8.10:3d8993a, May  3 2021, 11:48:03) [MSC v.1928 64 bit (AMD64)]"
  },
  "orig_nbformat": 4,
  "vscode": {
   "interpreter": {
    "hash": "65b5f243489bd9358788296533fc03025fea49f65e08ef6aa7a40b96c7113e3c"
   }
  }
 },
 "nbformat": 4,
 "nbformat_minor": 2
}
